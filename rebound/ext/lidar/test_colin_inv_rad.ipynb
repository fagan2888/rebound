{
 "cells": [
  {
   "cell_type": "code",
   "execution_count": 447,
   "metadata": {
    "collapsed": true
   },
   "outputs": [],
   "source": [
    "import numpy as np\n",
    "import matplotlib.pyplot as plt\n",
    "\n",
    "%matplotlib inline"
   ]
  },
  {
   "cell_type": "code",
   "execution_count": 449,
   "metadata": {
    "collapsed": true
   },
   "outputs": [],
   "source": [
    "img_fid = np.array([[656, 2144],   # 155 Dean St\n",
    "                    [351, 1096],   # 370 4th Ave\n",
    "                    [967, 1446],   # 198 Bond St\n",
    "                    [3439, 1089],  # 126 13th St\n",
    "                    [4005, 1542],  # 241 Hoyt St\n",
    "                    [2910, 1936],  # 175 Hoyt St\n",
    "                    [1984, 1668],  # 417 Baltic St\n",
    "                    [1894, 2165],  # 155 Dean St back-right corner\n",
    "                    [786, 2482],   # 97 Hoyt St\n",
    "                    [2934, 2483]]) # 160 Schermerhorn St\n",
    "\n",
    "ldr_fid = np.array([[9.87856166e+05, 1.89364434e+05, 60], # 155 Dean St\n",
    "                    [9.87851166e+05, 1.84582434e+05, 5.80000000e+01], # 4th Ave\n",
    "                    [9.87753166e+05, 1.88285434e+05, 128], # 198 Bond St\n",
    "                    [9.86039166e+05, 1.83084434e+05, 3.20000000e+01], #126 13th St\n",
    "                    [9.87241166e+05, 1.88546434e+05, 93], # 241 Hoyt St\n",
    "                    [9.87414166e+05, 1.88864434e+05, 55.7], # 175 Hoyt St\n",
    "                    [9.87556166e+05, 1.88604434e+05, 117],\n",
    "                    [9.87671816e+05, 1.89426084e+05, 60],\n",
    "                    [9.87855866e+05, 1.89793684e+05, 46.5],\n",
    "                    [9.87694656e+05, 1.90460144e+05, 97.2]])\n",
    "\n",
    "img_dim = np.array([4096, 3072])"
   ]
  },
  {
   "cell_type": "code",
   "execution_count": 450,
   "metadata": {
    "collapsed": false
   },
   "outputs": [],
   "source": [
    "def colin_inv_rad(params, xim, yim, r):\n",
    "    \"\"\"\n",
    "    This function returns inverse of the colinearity equations.  Namely \n",
    "    given camera paramters and a location on the image, return the x, y, z\n",
    "    coordinate for a given distance from the camera r.\n",
    "    NOTE: this function is vectorized in z.\n",
    "    Parameters\n",
    "    ----------\n",
    "    params : tuple\n",
    "        The camera parameters kappa, phi, omega, xs, ys, zs, and f.\n",
    "    xim : float\n",
    "        The x location in an image.\n",
    "    yim : float\n",
    "        The y location in an image.\n",
    "    r : float\n",
    "        The distance from the camera.\n",
    "    Returns\n",
    "    -------\n",
    "    x, y, z : tuple\n",
    "        The x and y locations of the projected points.  These are either \n",
    "        floats, or ndarrays\n",
    "    \"\"\"\n",
    "\n",
    "    # -- careful about zeros\n",
    "    xim += 1e-3\n",
    "    yim += 1e-3\n",
    "\n",
    "    # -- Unwrap params\n",
    "    kappa, phi, omega, xs, ys, zs, f = params\n",
    "\n",
    "    omega = float(omega)\n",
    "    phi   = float(phi) + 0.5 * np.pi\n",
    "    kappa = float(kappa)\n",
    "    xs    = float(xs)\n",
    "    ys    = float(ys)\n",
    "    zs    = float(zs)\n",
    "    f     = float(f)\n",
    "\n",
    "    # -- utils\n",
    "    co = np.cos(omega)\n",
    "    so = np.sin(omega)\n",
    "    cp = np.cos(phi)\n",
    "    sp = np.sin(phi)\n",
    "    ck = np.cos(kappa)\n",
    "    sk = np.sin(kappa)\n",
    "\n",
    "    a1 =  cp * ck + sp * so * sk\n",
    "    b1 =  cp * sk + sp * so * ck\n",
    "    c1 =  sp * co\n",
    "    a2 = -co * sk\n",
    "    b2 =  co * ck\n",
    "    c2 =  so\n",
    "    a3 =  sp * ck + cp * so * sk\n",
    "    b3 =  sp * sk - cp * so * ck\n",
    "    c3 =  cp * co\n",
    "\n",
    "    d1 = a3 * xim + f * a2\n",
    "    d2 = b3 * xim + f * b2\n",
    "    d3 = c3 * xim + f * c2\n",
    "    d4 = a3 * yim - f * a1\n",
    "    d5 = b3 * yim - f * b1\n",
    "    d6 = c3 * yim - f * c1\n",
    "\n",
    "    e1 = (d6 * d2 - d3 * d5) / (d1 * d5 - d4 * d2)\n",
    "    e2 = (d6 * d1 - d3 * d4) / (d2 * d4 - d5 * d1)\n",
    "    e3 = 1.0 / np.sqrt(1 + e1 * e1 + e2 * e2)\n",
    "\n",
    "    # -- return the x, y, z location of the projected point\n",
    "    x = e1 * e3 * r + xs\n",
    "    y = e2 * e3 * r + ys\n",
    "    z = e3 * r + zs\n",
    "    \n",
    "    xyz = np.vstack([x, y, z]).T\n",
    "    return xyz"
   ]
  },
  {
   "cell_type": "code",
   "execution_count": 451,
   "metadata": {
    "collapsed": true
   },
   "outputs": [],
   "source": [
    "params = np.array([  4.75,   3.23700535e-02,   4.09325034e-02,\n",
    "         9.87923097e+05,   1.91284184e+05,   2.00000184e+02,\n",
    "         1.09257876e+04])"
   ]
  },
  {
   "cell_type": "code",
   "execution_count": 452,
   "metadata": {
    "collapsed": false
   },
   "outputs": [],
   "source": [
    "colin_xyz = colin_inv_rad(params, xim, yim, dist)"
   ]
  },
  {
   "cell_type": "code",
   "execution_count": 462,
   "metadata": {
    "collapsed": false
   },
   "outputs": [],
   "source": [
    "#params = np.array([4.70972911e+00,  -5.65282641e-02,   2.15931272e-01,\n",
    "#         9.88038172e+05,   1.91284935e+05,   1.00001642e+02,\n",
    "#         1.95207028e+04])\n",
    "#params = np.array([7*np.pi/4, 0.031780597404047164, 6.2203534541077907,\n",
    " #                  987922.03610049537, 191807.32999806647, 233.52199927717587,\n",
    "  #                 16534.751159015872])\n",
    "#params = np.array([4.58626623e+00, -5.60405800e-02, 1.03110986e-13, \n",
    "#                   9.87909846e+05, 1.91300342e+05, 2.37734868e+02, 1.46392513e+04])\n",
    "#params = np.array([2.4, -5.60405800e-02, 1.03110986e-13, \n",
    " #                  9.87909846e+05, 1.91300342e+05, 2.37734868e+02, 1000])\n",
    "#params = np.array([  5.44469858e+00,  -7.91506506e-01,   1.42943703e+00,\n",
    " #        9.88712188e+05,   1.91047051e+05,   1.00239911e+02,\n",
    "  #       4.83704200e+04])\n",
    "params = np.array([  4.75,   3.23700535e-02,   4.09325034e-02,\n",
    "         9.87923097e+05,   1.91284184e+05,   2.00000184e+02,\n",
    "         13000])\n",
    "#params = np.array([4.57532615e+00,  -2.51872502e-03,   6.64748832e-03,\n",
    " #        9.87937307e+05,   1.91310118e+05,   3.00105580e+02,\n",
    "  #       1.01357937e+05])"
   ]
  },
  {
   "cell_type": "code",
   "execution_count": 454,
   "metadata": {
    "collapsed": true
   },
   "outputs": [],
   "source": [
    "xim = img_fid[:,0].astype(float)\n",
    "yim = img_fid[:,1].astype(float)"
   ]
  },
  {
   "cell_type": "code",
   "execution_count": 455,
   "metadata": {
    "collapsed": false
   },
   "outputs": [],
   "source": [
    "x0 = params[3]\n",
    "y0 = params[4]"
   ]
  },
  {
   "cell_type": "code",
   "execution_count": 458,
   "metadata": {
    "collapsed": false
   },
   "outputs": [
    {
     "name": "stdout",
     "output_type": "stream",
     "text": [
      "[ 1947.3751795   6728.23545038  3030.28401437  8441.84911757  2850.01079713\n",
      "  2501.00914307  2732.39718374  1902.64804529  1518.61934429   883.93173293]\n"
     ]
    }
   ],
   "source": [
    "dist = np.zeros(np.shape(xy)[0])\n",
    "\n",
    "for i in range(np.shape(xy)[0]):\n",
    "    dist[i] = 1.0*((x0 - xy[i][0])**2 + (y0 - xy[i][1])**2)**0.5\n",
    "print dist"
   ]
  },
  {
   "cell_type": "code",
   "execution_count": 459,
   "metadata": {
    "collapsed": false
   },
   "outputs": [
    {
     "data": {
      "text/plain": [
       "array([ 1947.3751795 ,  6728.23545038,  3030.28401437,  8441.84911757,\n",
       "        2850.01079713,  2501.00914307,  2732.39718374,  1902.64804529,\n",
       "        1518.61934429,   883.93173293])"
      ]
     },
     "execution_count": 459,
     "metadata": {},
     "output_type": "execute_result"
    }
   ],
   "source": [
    "np.array(dist)"
   ]
  },
  {
   "cell_type": "code",
   "execution_count": 463,
   "metadata": {
    "collapsed": false
   },
   "outputs": [],
   "source": [
    "# Note, this is without centralizing the points\n",
    "# When centralized xim, yim the projection looks completely off\n",
    "test_rad = colin_inv_rad(params, xim, yim, dist)\n",
    "#test_rad = colin_inv_rad(params, xim-4096//2, yim-3072//2, dist)"
   ]
  },
  {
   "cell_type": "code",
   "execution_count": 464,
   "metadata": {
    "collapsed": false
   },
   "outputs": [
    {
     "data": {
      "text/plain": [
       "<matplotlib.collections.PathCollection at 0x7f5221c6f450>"
      ]
     },
     "execution_count": 464,
     "metadata": {},
     "output_type": "execute_result"
    },
    {
     "data": {
      "image/png": "[encoded data removed]",
      "text/plain": [
       "<matplotlib.figure.Figure at 0x7f5221cd06d0>"
      ]
     },
     "metadata": {},
     "output_type": "display_data"
    }
   ],
   "source": [
    "plt.figure(figsize = (10, 6))\n",
    "#plt.scatter(cxim, cyim)\n",
    "plt.scatter(xy[:,0], xy[:,1])\n",
    "plt.scatter(test_rad[:,0], test_rad[:,1], marker = 'x') # Projected points\n",
    "plt.scatter(9.87920425e+05, 1.91912958e+05, marker='v', c = 'red')"
   ]
  },
  {
   "cell_type": "markdown",
   "metadata": {},
   "source": [
    "#### Projected z vs. actual z"
   ]
  },
  {
   "cell_type": "code",
   "execution_count": 465,
   "metadata": {
    "collapsed": false
   },
   "outputs": [
    {
     "data": {
      "text/plain": [
       "array([[  9.87883839e+05,   1.89373852e+05,   5.75978264e+02],\n",
       "       [  9.87962351e+05,   1.84602564e+05,   9.89664059e+02],\n",
       "       [  9.87796738e+05,   1.88286896e+05,   6.27689564e+02],\n",
       "       [  9.86055884e+05,   1.83098199e+05,   1.07634023e+03],\n",
       "       [  9.87182785e+05,   1.88558329e+05,   5.79751177e+02],\n",
       "       [  9.87461801e+05,   1.88862021e+05,   6.18781734e+02],\n",
       "       [  9.87601552e+05,   1.88603175e+05,   6.18081446e+02],\n",
       "       [  9.87710596e+05,   1.89427999e+05,   5.59848542e+02],\n",
       "       [  9.87876514e+05,   1.89802335e+05,   5.28872165e+02],\n",
       "       [  9.87758655e+05,   1.90434915e+05,   3.81757625e+02]])"
      ]
     },
     "execution_count": 465,
     "metadata": {},
     "output_type": "execute_result"
    }
   ],
   "source": [
    "test_rad"
   ]
  },
  {
   "cell_type": "code",
   "execution_count": 466,
   "metadata": {
    "collapsed": false
   },
   "outputs": [
    {
     "data": {
      "text/plain": [
       "array([  60. ,   58. ,  128. ,   32. ,   93. ,   55.7,  117. ,   60. ,\n",
       "         46.5,   97.2])"
      ]
     },
     "execution_count": 466,
     "metadata": {},
     "output_type": "execute_result"
    }
   ],
   "source": [
    "ldr_fid[:,2]"
   ]
  },
  {
   "cell_type": "code",
   "execution_count": null,
   "metadata": {
    "collapsed": true
   },
   "outputs": [],
   "source": []
  }
 ],
 "metadata": {
  "kernelspec": {
   "display_name": "Python 2",
   "language": "python",
   "name": "python2"
  },
  "language_info": {
   "codemirror_mode": {
    "name": "ipython",
    "version": 2
   },
   "file_extension": ".py",
   "mimetype": "text/x-python",
   "name": "python",
   "nbconvert_exporter": "python",
   "pygments_lexer": "ipython2",
   "version": "2.7.11"
  }
 },
 "nbformat": 4,
 "nbformat_minor": 0
}
